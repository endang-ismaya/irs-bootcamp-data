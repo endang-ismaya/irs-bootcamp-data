{
 "cells": [
  {
   "cell_type": "markdown",
   "id": "14fc84d9-a0ca-40e5-a414-fd6e78b45162",
   "metadata": {},
   "source": [
    "# Learning Comprehensions\n",
    "- list comprehensions\n",
    "- sets comprehensions\n",
    "- dict comprehensions"
   ]
  },
  {
   "cell_type": "markdown",
   "id": "2fb6eac6-87bd-4838-b40a-637405c79857",
   "metadata": {},
   "source": [
    "### list comprehensions"
   ]
  },
  {
   "cell_type": "markdown",
   "id": "aaae78c0-ccc1-48bb-8c7e-b47bdcc6d5a5",
   "metadata": {},
   "source": [
    "> syntax\n",
    "> \n",
    "> EXPRESSION for ELEMENT in SEQUENCE if CONDITION"
   ]
  },
  {
   "cell_type": "code",
   "execution_count": 16,
   "id": "d68dc1c0-07d4-42fb-a61c-692104326498",
   "metadata": {},
   "outputs": [
    {
     "data": {
      "text/plain": [
       "[2, 4, 6, 8, 10, 12, 14, 16, 18, 20]"
      ]
     },
     "execution_count": 16,
     "metadata": {},
     "output_type": "execute_result"
    }
   ],
   "source": [
    "# traditional for in loop\n",
    "nums = [1, 2, 3, 4, 5, 6, 7, 8, 9, 10]\n",
    "\n",
    "double_nums = []\n",
    "for num in nums:\n",
    "    double_nums.append(num*2)\n",
    "\n",
    "double_nums"
   ]
  },
  {
   "cell_type": "code",
   "execution_count": 14,
   "id": "d55da5dd-95b5-4237-ac6a-5d97a50132b3",
   "metadata": {},
   "outputs": [
    {
     "data": {
      "text/plain": [
       "[2, 4, 6, 8, 10, 12, 14, 16, 18, 20]"
      ]
     },
     "execution_count": 14,
     "metadata": {},
     "output_type": "execute_result"
    }
   ],
   "source": [
    "# comprehensions\n",
    "double_nums = [ num*2 for num in nums ]\n",
    "double_nums"
   ]
  },
  {
   "cell_type": "code",
   "execution_count": 15,
   "id": "e11383a7-197b-4890-9cdc-ebb05c4c40a4",
   "metadata": {},
   "outputs": [
    {
     "data": {
      "text/plain": [
       "[4, 8, 12, 16, 20]"
      ]
     },
     "execution_count": 15,
     "metadata": {},
     "output_type": "execute_result"
    }
   ],
   "source": [
    "# taking even numbers and multiply by 2\n",
    "double_even_nums = [ num*2 for num in nums if num % 2 == 0]\n",
    "double_even_nums"
   ]
  },
  {
   "cell_type": "code",
   "execution_count": 27,
   "id": "750187f8-f17d-45fa-ae36-2e0b0d3aff6b",
   "metadata": {},
   "outputs": [],
   "source": [
    "def even_num(num):\n",
    "    return num % 2 == 0\n",
    "\n",
    "def odd_num(num):\n",
    "    return num % 2 != 0\n",
    "\n",
    "def fn_num(num):\n",
    "    return num**2"
   ]
  },
  {
   "cell_type": "code",
   "execution_count": 28,
   "id": "4930d77d-cb31-4f12-9f3f-50553367a73e",
   "metadata": {},
   "outputs": [
    {
     "data": {
      "text/plain": [
       "[1, 9, 25, 49, 81]"
      ]
     },
     "execution_count": 28,
     "metadata": {},
     "output_type": "execute_result"
    }
   ],
   "source": [
    "double_even_nums = [ fn_num(num) for num in nums if odd_num(num) ]\n",
    "double_even_nums"
   ]
  },
  {
   "cell_type": "code",
   "execution_count": null,
   "id": "8ec803eb-02a7-4177-b4fb-f3b926ae278c",
   "metadata": {},
   "outputs": [],
   "source": []
  },
  {
   "cell_type": "code",
   "execution_count": 32,
   "id": "be3d8304-548c-4d72-821f-380e7ab3758d",
   "metadata": {},
   "outputs": [
    {
     "data": {
      "text/plain": [
       "['ROJI', 'SATRIO']"
      ]
     },
     "execution_count": 32,
     "metadata": {},
     "output_type": "execute_result"
    }
   ],
   "source": [
    "irs = [\"roji\", \"faisal\", \"guan\", \"kurnia\", \"arsi\", \"fikky\", \"rahmat\", \"satrio\", \"wisnu\", \"zaenal\"]\n",
    "\n",
    "wong_jowo = [ engineer.upper()  for engineer in irs if 'o' in engineer]\n",
    "wong_jowo"
   ]
  },
  {
   "cell_type": "code",
   "execution_count": null,
   "id": "5ab4fe81-a907-4c6c-9fb7-b28f7fd51960",
   "metadata": {},
   "outputs": [],
   "source": []
  },
  {
   "cell_type": "code",
   "execution_count": null,
   "id": "8088e44f-bc86-4649-8282-7ead5e9898ef",
   "metadata": {},
   "outputs": [],
   "source": []
  },
  {
   "cell_type": "markdown",
   "id": "db7ce8d1-b673-4585-9a55-29f168ffc2bb",
   "metadata": {},
   "source": [
    "## Dict Comprehensions"
   ]
  },
  {
   "cell_type": "code",
   "execution_count": 42,
   "id": "d13eda06-272e-4be3-85b2-ee005fc3f2eb",
   "metadata": {},
   "outputs": [
    {
     "data": {
      "text/plain": [
       "{'D': 1089, 'E': 1369}"
      ]
     },
     "execution_count": 42,
     "metadata": {},
     "output_type": "execute_result"
    }
   ],
   "source": [
    "# create a new dicionary with comprehensions\n",
    "# one liners\n",
    "nums = {\n",
    "    'a': 10,\n",
    "    'b': 20,\n",
    "    'c': 30,\n",
    "    'd': 33,\n",
    "    'e': 37\n",
    "}\n",
    "\n",
    "new_nums = { k.upper():v**2 for k, v in nums.items() if v % 2 != 0}\n",
    "new_nums"
   ]
  },
  {
   "cell_type": "code",
   "execution_count": 43,
   "id": "d772f885-2b02-4522-b787-309f853d982f",
   "metadata": {},
   "outputs": [
    {
     "data": {
      "text/plain": [
       "{'D': 1089, 'E': 1369}"
      ]
     },
     "execution_count": 43,
     "metadata": {},
     "output_type": "execute_result"
    }
   ],
   "source": [
    "# tradisional\n",
    "new_nums = dict()\n",
    "for k, v in nums.items():\n",
    "    if v % 2 != 0:\n",
    "        new_nums[k.upper()] = v**2\n",
    "\n",
    "new_nums"
   ]
  },
  {
   "cell_type": "code",
   "execution_count": 49,
   "id": "5bc9da55-f350-40e9-9ab4-dd4d14d2f953",
   "metadata": {},
   "outputs": [
    {
     "data": {
      "text/plain": [
       "{'ayah': 32, 'ibu': 28, 'kakak': 8}"
      ]
     },
     "execution_count": 49,
     "metadata": {},
     "output_type": "execute_result"
    }
   ],
   "source": [
    "## dict dari 2 list\n",
    "families = [\"ayah\", \"ibu\", \"kakak\"]\n",
    "ages = [32, 28, 8]\n",
    "\n",
    "# dt_family = {\n",
    "#     'ayah': 32,\n",
    "#     'ibu': 28,\n",
    "#     'kakak': 8\n",
    "# }\n",
    "\n",
    "# fa = zip(families, ages)\n",
    "# list(fa)\n",
    "\n",
    "dt_families_ages = { name:age for name, age in zip(families, ages) }\n",
    "dt_families_ages"
   ]
  },
  {
   "cell_type": "code",
   "execution_count": null,
   "id": "4d80598e-d639-42ee-8c86-09de3bbce298",
   "metadata": {},
   "outputs": [],
   "source": []
  }
 ],
 "metadata": {
  "kernelspec": {
   "display_name": "Python 3 (ipykernel)",
   "language": "python",
   "name": "python3"
  },
  "language_info": {
   "codemirror_mode": {
    "name": "ipython",
    "version": 3
   },
   "file_extension": ".py",
   "mimetype": "text/x-python",
   "name": "python",
   "nbconvert_exporter": "python",
   "pygments_lexer": "ipython3",
   "version": "3.13.1"
  }
 },
 "nbformat": 4,
 "nbformat_minor": 5
}
