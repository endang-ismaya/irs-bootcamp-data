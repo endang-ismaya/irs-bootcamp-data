{
 "cells": [
  {
   "cell_type": "markdown",
   "id": "01da0dda-e973-4ab4-95bc-4368926e2dca",
   "metadata": {},
   "source": [
    "# Python Error Handlings\n",
    "\n",
    "> try - except"
   ]
  },
  {
   "cell_type": "code",
   "execution_count": 16,
   "id": "071ef993-2d8d-4c1b-a4ea-e57041ee02e0",
   "metadata": {},
   "outputs": [
    {
     "name": "stdin",
     "output_type": "stream",
     "text": [
      "Enter a number:  5\n"
     ]
    },
    {
     "name": "stdout",
     "output_type": "stream",
     "text": [
      "<class 'str'>\n"
     ]
    },
    {
     "ename": "TypeError",
     "evalue": "unsupported operand type(s) for /: 'int' and 'str'",
     "output_type": "error",
     "traceback": [
      "\u001b[31m---------------------------------------------------------------------------\u001b[39m",
      "\u001b[31mTypeError\u001b[39m                                 Traceback (most recent call last)",
      "\u001b[36mCell\u001b[39m\u001b[36m \u001b[39m\u001b[32mIn[16]\u001b[39m\u001b[32m, line 5\u001b[39m\n\u001b[32m      3\u001b[39m     user_input = \u001b[38;5;28minput\u001b[39m(\u001b[33m\"\u001b[39m\u001b[33mEnter a number: \u001b[39m\u001b[33m\"\u001b[39m)\n\u001b[32m      4\u001b[39m     \u001b[38;5;28mprint\u001b[39m(\u001b[38;5;28mtype\u001b[39m(user_input))\n\u001b[32m----> \u001b[39m\u001b[32m5\u001b[39m     \u001b[38;5;28mprint\u001b[39m(\u001b[32;43m10\u001b[39;49m\u001b[43m \u001b[49m\u001b[43m/\u001b[49m\u001b[43m \u001b[49m\u001b[43muser_input\u001b[49m)\n\u001b[32m      7\u001b[39m \u001b[38;5;28;01mexcept\u001b[39;00m \u001b[38;5;167;01mZeroDivisionError\u001b[39;00m \u001b[38;5;28;01mas\u001b[39;00m e:\n\u001b[32m      8\u001b[39m     \u001b[38;5;28mprint\u001b[39m(\u001b[33m\"\u001b[39m\u001b[33mAnda melakukan pembagian dengan 0, yang itu adalah tidak boleh dilakukan!!!\u001b[39m\u001b[33m\"\u001b[39m)\n",
      "\u001b[31mTypeError\u001b[39m: unsupported operand type(s) for /: 'int' and 'str'"
     ]
    }
   ],
   "source": [
    "try:\n",
    "\n",
    "    user_input = input(\"Enter a number: \")\n",
    "    print(type(user_input))\n",
    "    print(10 / user_input)\n",
    "\n",
    "except ZeroDivisionError as e:\n",
    "    print(\"Anda melakukan pembagian dengan 0, yang itu adalah tidak boleh dilakukan!!!\")\n",
    "\n",
    "except IndexError as e:\n",
    "    print(\"Anda melakukan pemanggilan diluar index, tolong cek lagi length dari array anda!!\")\n",
    "\n",
    "# except Exception as e:\n",
    "#     print(\"Ini adalah General Error\")\n",
    "    \n",
    "\n",
    "\n",
    "# code after error\n",
    "print(\"Apakah ini di running?\")\n"
   ]
  },
  {
   "cell_type": "code",
   "execution_count": null,
   "id": "9eed4d75-7858-41ac-86a9-08253a130bd0",
   "metadata": {},
   "outputs": [],
   "source": []
  },
  {
   "cell_type": "markdown",
   "id": "373f28b2-682d-41ad-90a3-a70bddca87e9",
   "metadata": {},
   "source": [
    "## Try Except Else Finally"
   ]
  },
  {
   "cell_type": "code",
   "execution_count": 24,
   "id": "b0117caa-bb56-4480-b374-e7a11740b9ac",
   "metadata": {
    "scrolled": true
   },
   "outputs": [
    {
     "name": "stdin",
     "output_type": "stream",
     "text": [
      "Enter your salary per month:  18000\n",
      "Enter your days of work per month:  enambelas\n"
     ]
    },
    {
     "name": "stdout",
     "output_type": "stream",
     "text": [
      "invalid literal for int() with base 10: 'enambelas'\n",
      "\n",
      "\n",
      "\n",
      "\n",
      "Thank You for using our app. if the code ran error, please contact our admin.\n"
     ]
    }
   ],
   "source": [
    "try:\n",
    "\n",
    "    salary = int(input(\"Enter your salary per month: \"))\n",
    "    days_of_work = int(input(\"Enter your days of work per month: \"))\n",
    "\n",
    "    salary_per_day = round(salary / days_of_work)\n",
    "\n",
    "    print(f\"Your Salary per day is: {salary_per_day} USD\")\n",
    "    \n",
    "except Exception as e:\n",
    "\n",
    "    print(e)\n",
    "\n",
    "else:\n",
    "    print(\"\\n\\n\\n\")\n",
    "    print(\"*\" * 50)\n",
    "    print(\"Congratulations, Your app running successfully.\")\n",
    "    print(\"*\" * 50)\n",
    "\n",
    "finally:\n",
    "    print(\"\\n\\n\\n\")\n",
    "    print(\"Thank You for using our app. if the code ran error, please contact our admin.\")"
   ]
  },
  {
   "cell_type": "code",
   "execution_count": null,
   "id": "b3706da8-87d1-4cdf-a8c3-a6d2f6bf8bc4",
   "metadata": {},
   "outputs": [],
   "source": []
  },
  {
   "cell_type": "code",
   "execution_count": 27,
   "id": "536e21ff-407a-4324-9ef9-644525d6dcb7",
   "metadata": {},
   "outputs": [
    {
     "name": "stdout",
     "output_type": "stream",
     "text": [
      "Sorry, the application has an error!\n"
     ]
    }
   ],
   "source": [
    "# utils\n",
    "def test_1():\n",
    "    print(10/0)\n",
    "\n",
    "\n",
    "def test_2():\n",
    "    pass\n",
    "\n",
    "\n",
    "def main():\n",
    "\n",
    "    test_1()\n",
    "\n",
    "    test_2()\n",
    "\n",
    "# main application\n",
    "try:\n",
    "\n",
    "    main()\n",
    "\n",
    "except Exception as e:\n",
    "    print(\"Sorry, the application has an error!\")"
   ]
  },
  {
   "cell_type": "code",
   "execution_count": 28,
   "id": "ee37acf7-524b-4517-98a7-4956843e2810",
   "metadata": {},
   "outputs": [],
   "source": [
    "def read_excel():\n",
    "    # TODO\n",
    "    pass \n",
    "\n",
    "\n",
    "def extract_zip():\n",
    "    pass\n",
    "\n"
   ]
  },
  {
   "cell_type": "code",
   "execution_count": null,
   "id": "532aba07-8af9-4f5f-9478-1172e0737a5d",
   "metadata": {},
   "outputs": [],
   "source": []
  },
  {
   "cell_type": "markdown",
   "id": "711606d8-8710-45a2-96cb-017a4282e6d8",
   "metadata": {},
   "source": [
    "# Raise Custom Error"
   ]
  },
  {
   "cell_type": "code",
   "execution_count": 35,
   "id": "5c92e2bf-ccb4-465b-ac4e-1a49cf54ccd8",
   "metadata": {},
   "outputs": [
    {
     "name": "stdin",
     "output_type": "stream",
     "text": [
      "Enter your year of born:  1900\n"
     ]
    },
    {
     "name": "stdout",
     "output_type": "stream",
     "text": [
      "Kolom A ada yang kosong, ini harus di-isi dengan integer value.\n",
      "Sepertinya ada beberapa fungsi yang lupa anda selesaikan!\n"
     ]
    }
   ],
   "source": [
    "def calculate_age(year_born: int):\n",
    "    raise ValueError(\"Kolom A ada yang kosong, ini harus di-isi dengan integer value.\")\n",
    "\n",
    "\n",
    "def add(num1, num2):\n",
    "    return num1 + num2\n",
    "\n",
    "\n",
    "try:\n",
    "    # num1 = int(input(\"Enter number 1: \"))\n",
    "    # num2 = int(input(\"Enter number 2: \"))\n",
    "\n",
    "    # result = add(num1, num2)\n",
    "    # print(f\"The calculation for num1 and num2 is {result}\")\n",
    "\n",
    "    year_born = int(input(\"Enter your year of born: \"))\n",
    "    result = calculate_age(year_born)\n",
    "    print(f\"Your age right now is {result}\")\n",
    "\n",
    "except ValueError as e:\n",
    "    print(e)\n",
    "    print(\"Sepertinya ada beberapa fungsi yang lupa anda selesaikan!\")\n",
    "    \n",
    "except Exception as e:\n",
    "    print(e)\n",
    "    print(\"Internal Error, please contact our Admin!\")\n"
   ]
  },
  {
   "cell_type": "code",
   "execution_count": null,
   "id": "e965c0d7-e36c-4878-9881-0e40bc52fe5a",
   "metadata": {},
   "outputs": [],
   "source": []
  },
  {
   "cell_type": "markdown",
   "id": "d75b94c5-069a-4b9e-858d-1a82a333c8d4",
   "metadata": {},
   "source": [
    "# Basic Custom Exception derived from Exception Class"
   ]
  },
  {
   "cell_type": "markdown",
   "id": "29c03e47-1c1f-45c3-801c-49fd30b00c66",
   "metadata": {},
   "source": [
    "Okay, let's create a custom exception called `ExcelColumnError` in Python.\n",
    "\n",
    "Custom exceptions are useful because they make your code more readable and allow you to handle specific error conditions more precisely. They are created by defining a new class that inherits (directly or indirectly) from the built-in `Exception` class.\n",
    "\n",
    "Here's how you can do it, starting from the simplest form and adding more features:\n",
    "\n",
    "**1. Basic Custom Exception**\n",
    "\n",
    "The simplest way is to just define a class that inherits from `Exception`:\n",
    "\n",
    "```python\n",
    "class ExcelColumnError(Exception):\n",
    "  \"\"\"Custom exception for errors related to Excel columns.\"\"\"\n",
    "  pass # No additional logic needed for the simplest case\n",
    "\n",
    "# --- How to use it ---\n",
    "def check_column(column_name):\n",
    "  expected_columns = ['Name', 'Age', 'City']\n",
    "  if column_name not in expected_columns:\n",
    "    # Raise the custom exception\n",
    "    raise ExcelColumnError(f\"Column '{column_name}' not found or invalid.\")\n",
    "\n",
    "# example for implementation\n",
    "try:\n",
    "  check_column('Country')\n",
    "except ExcelColumnError as e:\n",
    "  print(f\"Caught an Excel column error: {e}\")\n",
    "except Exception as e:\n",
    "  print(f\"Caught a general error: {e}\")\n",
    "\n",
    "try:\n",
    "  check_column('Name')\n",
    "  print(\"Column 'Name' is valid.\")\n",
    "except ExcelColumnError as e:\n",
    "  print(f\"Caught an Excel column error: {e}\")\n",
    "```\n"
   ]
  },
  {
   "cell_type": "code",
   "execution_count": null,
   "id": "87bb8539-4252-44a4-a8ca-c734e856daaa",
   "metadata": {},
   "outputs": [],
   "source": []
  },
  {
   "cell_type": "code",
   "execution_count": null,
   "id": "c74ee34a-cdc1-40e1-9edd-5cf0faa18cc7",
   "metadata": {},
   "outputs": [],
   "source": []
  }
 ],
 "metadata": {
  "kernelspec": {
   "display_name": "Python 3 (ipykernel)",
   "language": "python",
   "name": "python3"
  },
  "language_info": {
   "codemirror_mode": {
    "name": "ipython",
    "version": 3
   },
   "file_extension": ".py",
   "mimetype": "text/x-python",
   "name": "python",
   "nbconvert_exporter": "python",
   "pygments_lexer": "ipython3",
   "version": "3.13.1"
  }
 },
 "nbformat": 4,
 "nbformat_minor": 5
}
