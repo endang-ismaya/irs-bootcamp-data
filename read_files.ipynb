{
 "cells": [
  {
   "cell_type": "markdown",
   "id": "6127d9f3-dd27-4160-8f3c-7e57fc982ea3",
   "metadata": {},
   "source": [
    "# Reading File"
   ]
  },
  {
   "cell_type": "code",
   "execution_count": 4,
   "id": "9da8c6d4-5ea4-4055-9bec-97c69a418771",
   "metadata": {},
   "outputs": [
    {
     "name": "stdout",
     "output_type": "stream",
     "text": [
      "endang\n",
      "zaenal\n",
      "roji\n",
      "alfian\n",
      "kurnia\n",
      "fikky\n",
      "satrio\n",
      "wisnu\n",
      "\n"
     ]
    }
   ],
   "source": [
    "# without with\n",
    "filepath = \"irs-forever.txt\"\n",
    "\n",
    "\n",
    "file = open(filepath, mode='r')\n",
    "\n",
    "# print(type(file))\n",
    "# print(file)\n",
    "print(file.read())\n",
    "\n",
    "file.close()"
   ]
  },
  {
   "cell_type": "code",
   "execution_count": 25,
   "id": "8c08e6fb-7b7f-4b8b-b28a-82ad0e413344",
   "metadata": {},
   "outputs": [
    {
     "name": "stdout",
     "output_type": "stream",
     "text": [
      "['Endang berdomisili di Tangerang', 'Zaenal berdomisili di Malang', 'Roji berdomisili di Tangerang Selatan', 'Alfian berdomisili di Bekasi', 'Kurnia berdomisili di Tangerang', 'Fikky berdomisili di Slipi', 'Satrio berdomisili di Tangerang', 'Wisnu berdomisili di Depok', 'Faisal berdomisili di Bogor', 'Arsi berdomisili di Jakarta', 'Guan berdomisili di Medan', 'Rahmat berdomisili di Parung']\n"
     ]
    }
   ],
   "source": [
    "# reading using with\n",
    "filepath = \"irs-forever.txt\"\n",
    "\n",
    "irs_domicile = []\n",
    "with open(file=filepath, mode='r') as file:\n",
    "    # print(file.read())\n",
    "    for line in file.readlines():\n",
    "        # print(line.strip())\n",
    "        # print(type(line))\n",
    "        name, location = line.strip().split(',')\n",
    "        concat = f\"{name.title()} berdomisili di {location.title()}\"\n",
    "        irs_domicile.append(concat)\n",
    "\n",
    "\n",
    "print(irs_domicile)"
   ]
  },
  {
   "cell_type": "code",
   "execution_count": 26,
   "id": "47193ddb-ec49-4266-b96c-f4697b1cbc89",
   "metadata": {},
   "outputs": [
    {
     "name": "stdout",
     "output_type": "stream",
     "text": [
      "Selamat file anda sukses ditulis.\n"
     ]
    }
   ],
   "source": [
    "# writing with\n",
    "fileoutput = \"irs_domicile.txt\"\n",
    "\n",
    "try:\n",
    "    with open(file=fileoutput, mode='w') as file:\n",
    "        # for irs in irs_domicile:\n",
    "        #     file.write(irs + \"\\n\")\n",
    "        file.writelines([f\"{irs}\\n\" for irs in irs_domicile if not 'malang'.casefold() in irs.casefold()])\n",
    "except FileExistsError:\n",
    "    print(\"Maaf Tuan, file yang anda mau tulis sudah ada.\")\n",
    "\n",
    "except Exception:\n",
    "    print(\"Internal Server Error, Please Contact Admin!\")\n",
    "\n",
    "else:\n",
    "    print(\"Selamat file anda sukses ditulis.\")"
   ]
  },
  {
   "cell_type": "code",
   "execution_count": null,
   "id": "78629205-34e5-42e8-b6f6-293a6933fd17",
   "metadata": {},
   "outputs": [],
   "source": []
  },
  {
   "cell_type": "code",
   "execution_count": 27,
   "id": "a1a187c5-7fd0-4339-9ab4-d18969ce1400",
   "metadata": {},
   "outputs": [],
   "source": [
    "# append\n",
    "filepath = \"irs-forever-2.txt\"\n",
    "\n",
    "addition_engineers = [\n",
    "    (\"guan\", \"medan\"),\n",
    "    (\"rahmat\", \"parung\"),\n",
    "]\n",
    "\n",
    "with open(file=filepath, mode='a') as file:\n",
    "\n",
    "    for data in addition_engineers:\n",
    "        name, location = data\n",
    "        file.write(name + \",\" + location + \"\\n\")\n",
    "\n"
   ]
  },
  {
   "cell_type": "code",
   "execution_count": null,
   "id": "ff372a20-3206-43e3-bc8e-e2998b8dbd5c",
   "metadata": {},
   "outputs": [],
   "source": []
  }
 ],
 "metadata": {
  "kernelspec": {
   "display_name": "Python 3 (ipykernel)",
   "language": "python",
   "name": "python3"
  },
  "language_info": {
   "codemirror_mode": {
    "name": "ipython",
    "version": 3
   },
   "file_extension": ".py",
   "mimetype": "text/x-python",
   "name": "python",
   "nbconvert_exporter": "python",
   "pygments_lexer": "ipython3",
   "version": "3.13.1"
  }
 },
 "nbformat": 4,
 "nbformat_minor": 5
}
